{
 "cells": [
  {
   "cell_type": "markdown",
   "id": "847e2431",
   "metadata": {},
   "source": [
    "## Utils by PiotrCzapla\n",
    "https://github.com/PiotrCzapla/course22p2/blob/main/nbs/12_utils.ipynb"
   ]
  },
  {
   "cell_type": "code",
   "execution_count": null,
   "id": "b65976a6",
   "metadata": {},
   "outputs": [],
   "source": [
    "import pickle,gzip,math,os,time,shutil,torch,matplotlib as mpl,numpy as np,matplotlib.pyplot as plt\n",
    "import fastcore.all as fc\n",
    "from collections.abc import Mapping\n",
    "from pathlib import Path\n",
    "from operator import attrgetter,itemgetter\n",
    "from functools import partial\n",
    "from copy import copy\n",
    "from contextlib import contextmanager\n",
    "\n",
    "import torchvision.transforms.functional as TF,torch.nn.functional as F\n",
    "from torch import tensor,nn,optim\n",
    "from torch.utils.data import DataLoader,default_collate\n",
    "from torch.nn import init\n",
    "from torch.optim import lr_scheduler\n",
    "from torcheval.metrics import MulticlassAccuracy\n",
    "from datasets import load_dataset,load_dataset_builder\n",
    "\n",
    "\n",
    "from miniai.datasets import *\n",
    "from miniai.conv import *\n",
    "from miniai.learner import *\n",
    "from miniai.activations import *\n",
    "\n",
    "from miniai.init import *"
   ]
  },
  {
   "cell_type": "code",
   "execution_count": null,
   "id": "8fedd8e0",
   "metadata": {},
   "outputs": [],
   "source": [
    "from torcheval.metrics import Metric, Mean\n",
    "\n",
    "class LazyMean(Mean):\n",
    "    def __init__(self): \n",
    "        super().__init__()\n",
    "        self.buffer = []\n",
    "        \n",
    "    def reset(self):\n",
    "        super().reset()\n",
    "        self.buffer = []\n",
    "    \n",
    "    def to(self, device): pass # ignore we compute on cpu\n",
    "\n",
    "    def update(self, val, weight=tensor(1.0)): self.buffer.append((val.detach(), tensor(weight).detach().float()))\n",
    "\n",
    "    def compute(self):\n",
    "        for val,w in self.buffer: super().update(val.to('cpu'), weight=w.to('cpu'))\n",
    "        self.buffer = []    \n",
    "        return super().compute() "
   ]
  },
  {
   "cell_type": "code",
   "execution_count": null,
   "id": "3f77e780",
   "metadata": {},
   "outputs": [],
   "source": [
    "MetricsCB??"
   ]
  },
  {
   "cell_type": "code",
   "execution_count": null,
   "id": "66169914",
   "metadata": {},
   "outputs": [],
   "source": [
    "from copy import copy\n",
    "from miniai.learner import Mean, master_bar, progress_bar\n",
    "\n",
    "class LazyMetricsCB(Callback):\n",
    "    order = MetricsCB.order\n",
    "    def __init__(self, *ms, device=def_device, **metrics):\n",
    "        for o in ms: metrics[type(o).__name__] = o\n",
    "        self.metrics = metrics\n",
    "        self.all_metrics = copy(metrics)\n",
    "        #self.all_metrics['loss'] = self.loss = LazyMean() if torch.backends.mps.is_available() else Mean()\n",
    "        ##FM\n",
    "        self.all_metrics['loss'] = self.loss = Mean()\n",
    "        self.device = def_device    # Added by Piotr\n",
    "                \n",
    "\n",
    "    def _log(self, d): print(d)\n",
    "    def before_fit(self, learn): \n",
    "        learn.metrics = self \n",
    "        # Added by Piotr\n",
    "        self.device = [*(cb.device for cb in learn.cbs if isinstance(cb, DeviceCB)), self.device][0]\n",
    "                \n",
    "    def before_epoch(self, learn): \n",
    "        for o in self.all_metrics.values(): \n",
    "            o.reset()\n",
    "            o.to(self.device)\n",
    "    \n",
    "    @torch.no_grad()\n",
    "    def after_epoch(self, learn):\n",
    "        log = {k:f'{to_cpu(v.compute()):.3f}' for k,v in self.all_metrics.items()}\n",
    "        log['epoch'] = learn.epoch\n",
    "        log['train'] = 'train' if learn.model.training else 'eval'\n",
    "        self._log(log)\n",
    "    \n",
    "    @torch.no_grad()\n",
    "    def after_batch(self, learn):\n",
    "        x,y,*_ = learn.batch\n",
    "        for m in self.metrics.values(): m.update(learn.preds, y)\n",
    "        self.loss.update(learn.loss, weight=len(x))"
   ]
  },
  {
   "cell_type": "code",
   "execution_count": null,
   "id": "a6af9362",
   "metadata": {},
   "outputs": [],
   "source": [
    "class LazyProgressCB(Callback):\n",
    "    order = MetricsCB.order+1\n",
    "    def __init__(self, plot=False): \n",
    "        self.plot = plot\n",
    "        self.count = 0\n",
    "    def before_fit(self, learn):\n",
    "        learn.epochs = self.mbar = master_bar(learn.epochs)\n",
    "        self.first = True\n",
    "        if hasattr(learn, 'metrics'): learn.metrics._log = self._log\n",
    "        self.dev_losses = []\n",
    "        self.losses = []\n",
    "\n",
    "    def _log(self, d):\n",
    "        if self.first:\n",
    "            self.mbar.write(list(d), table=True)\n",
    "            self.first = False\n",
    "        self.mbar.write(list(d.values()), table=True)\n",
    "        if self.plot:\n",
    "            for l in self.dev_losses: self.losses.append(to_cpu(l))\n",
    "            self.dev_losses=[]\n",
    "            #print(self.losses[:10])\n",
    "            self.mbar.update_graph([[fc.L.range(self.losses), self.losses]])\n",
    "        \n",
    "    def before_epoch(self, learn): learn.dl = progress_bar(learn.dl, leave=False, parent=self.mbar)\n",
    "    def after_batch(self, learn):\n",
    "        #learn.dl.comment = f'{learn.loss:.3f}' # not sure how it is being used\n",
    "        if self.plot and hasattr(learn, 'metrics') and learn.training:\n",
    "            self.dev_losses.append(learn.loss.detach())"
   ]
  },
  {
   "cell_type": "code",
   "execution_count": null,
   "id": "d2511bf8",
   "metadata": {},
   "outputs": [],
   "source": [
    "import time\n",
    "\n",
    "def _format_stats(stats):\n",
    "    return f\"{stats.mean():.2f} ± {stats.std():.2f}\"\n",
    "\n",
    "class TimeItCB(Callback):\n",
    "    def __init__(self): self.reset()\n",
    "    def tick(self): return time.time()\n",
    "         \n",
    "    def reset(self):\n",
    "        self.start = self.tick()\n",
    "        self.setup = None\n",
    "        self.batches = {True:[], False:[]}\n",
    "        self.epochs = {True:[], False:[]}\n",
    "        self.samples = {True:[], False:[]}\n",
    "        \n",
    "    def before_fit(self, learn): self.reset()\n",
    "        \n",
    "    def before_batch(self, learn):\n",
    "        if self.setup is None: self.setup = self.tick() - self.start\n",
    "        self.batches[learn.training].append(self.tick())\n",
    "    \n",
    "    def after_batch(self, learn):\n",
    "        self.batches[learn.training][-1] = self.tick() - self.batches[learn.training][-1]\n",
    "        self.samples[learn.training].append(learn.batch[0].shape[0])\n",
    "    \n",
    "    def before_epoch(self, learn):\n",
    "        \n",
    "        self.epochs[learn.training].append(self.tick())\n",
    "        #print(f\"Before {self.epochs[learn.training]=}\")\n",
    "    \n",
    "    def after_epoch(self, learn):\n",
    "        \n",
    "        self.epochs[learn.training][-1] = self.tick() - self.epochs[learn.training][-1]\n",
    "        #print(f\"After {self.epochs[learn.training]=}\")\n",
    "    \n",
    "    def after_fit(self, learn):\n",
    "        #print(f\"{self.epochs[learn.training]=}\")\n",
    "        self.total = self.tick() - self.start\n",
    "        self.setup = self.setup / self.total\n",
    "        self.batches = {k:np.array(v) for k,v in self.batches.items()}\n",
    "        self.epochs = {k:np.array(v) for k,v in self.epochs.items()}\n",
    "        self.samples = {k:np.array(v) for k,v in self.samples.items()}\n",
    "        self.print_stats()\n",
    "    \n",
    "    def print_stats(self): \n",
    "        print(f\"Fit {len(self.epochs[True])} in: {self.total:.2f}s, setup: {self.setup:.2f}s, {_format_stats(self.epochs[True])}s per epoch, {_format_stats(self.batches[True])}s per batch\")"
   ]
  },
  {
   "cell_type": "code",
   "execution_count": null,
   "id": "329d0b9e",
   "metadata": {},
   "outputs": [
    {
     "data": {
      "text/plain": [
       "6"
      ]
     },
     "execution_count": null,
     "metadata": {},
     "output_type": "execute_result"
    }
   ],
   "source": []
  },
  {
   "cell_type": "code",
   "execution_count": null,
   "id": "4fdb1113",
   "metadata": {},
   "outputs": [],
   "source": [
    "## FM simplifued\n",
    "\n",
    "import time\n",
    "\n",
    "def _format_stats(stats):\n",
    "    return f\"{stats.mean():.2f} ± {stats.std():.2f}\"\n",
    "\n",
    "class TimeItCBFM(Callback):\n",
    "    def __init__(self): self.reset()\n",
    "    def tick(self): return time.time()\n",
    "         \n",
    "    def reset(self):\n",
    "        self.start = self.tick()\n",
    "        self.batches = {True:[], False:[]}\n",
    "        self.epochs = {True:[], False:[]}\n",
    "        \n",
    "    def before_fit(self, learn): self.reset()\n",
    "        \n",
    "    def before_batch(self, learn):\n",
    "        self.batches[learn.training].append(self.tick())\n",
    "    \n",
    "    def after_batch(self, learn):\n",
    "        self.batches[learn.training][-1] = self.tick() - self.batches[learn.training][-1]\n",
    "    \n",
    "    def before_epoch(self, learn):\n",
    "        self.epochs[learn.training].append(self.tick())\n",
    "    \n",
    "    def after_epoch(self, learn):\n",
    "        self.epochs[learn.training][-1] = self.tick() - self.epochs[learn.training][-1]\n",
    "    \n",
    "    def after_fit(self, learn):\n",
    "        self.total = self.tick() - self.start\n",
    "        self.batches = {k:np.array(v) for k,v in self.batches.items()}\n",
    "        self.epochs = {k:np.array(v) for k,v in self.epochs.items()}\n",
    "        self.print_stats()\n",
    "    \n",
    "    def print_stats(self): \n",
    "        print(f\"Fit {len(self.epochs[True])} in: {self.total:.2f}s, setup: {self.setup:.2f}s, {_format_stats(self.epochs[True])}s per epoch, {_format_stats(self.batches[True])}s per batch\")"
   ]
  },
  {
   "cell_type": "code",
   "execution_count": null,
   "id": "f1593e0a",
   "metadata": {},
   "outputs": [],
   "source": [
    "# if spawn is not possible, we can cache the entire dataset in memory after transformations\n",
    "def _with_features(ds):\n",
    "    setattr((l:=fc.L(ds)), 'features', ds.features)\n",
    "    return l \n",
    "def cache_dataset_as_dict(dd): return {dsn: _with_features(ds) for dsn,ds in dd.items()}"
   ]
  },
  {
   "cell_type": "code",
   "execution_count": null,
   "id": "73a94dda",
   "metadata": {},
   "outputs": [],
   "source": [
    "lazy_cbs = [DeviceCB(), LazyMetricsCB(accuracy=MulticlassAccuracy()), LazyProgressCB(plot=True), TimeItCB()]\n",
    "#eager_cbs = [DeviceCB(), LazyMetricsCB(accuracy=MulticlassAccuracy()), ProgressCB(plot=True), TimeItCB()]\n",
    "\n",
    "##FM\n",
    "eager_cbs = [DeviceCB(), MetricsCB(accuracy=MulticlassAccuracy()), ProgressCB(plot=True), TimeItCB()]"
   ]
  },
  {
   "cell_type": "code",
   "execution_count": null,
   "id": "863633ef",
   "metadata": {},
   "outputs": [
    {
     "name": "stderr",
     "output_type": "stream",
     "text": [
      "Found cached dataset fashion_mnist (/home/fmussari/.cache/huggingface/datasets/fashion_mnist/fashion_mnist/1.0.0/8d6c32399aa01613d96e2cbc9b13638f359ef62bb33612b077b4c247f6ef99c1)\n"
     ]
    },
    {
     "data": {
      "application/vnd.jupyter.widget-view+json": {
       "model_id": "2c87ac66d05842a3bfecec2b7ce4b7b0",
       "version_major": 2,
       "version_minor": 0
      },
      "text/plain": [
       "  0%|          | 0/2 [00:00<?, ?it/s]"
      ]
     },
     "metadata": {},
     "output_type": "display_data"
    }
   ],
   "source": [
    "bs = 1024\n",
    "xmean, xstd = 0.28, 0.35\n",
    "name = \"fashion_mnist\"\n",
    "def to_tensor_tfm(b, mean, std, xl='image'): \n",
    "    b[xl] = [(TF.to_tensor(o)-mean)/std for o in b[xl]]\n",
    "    return b\n",
    "\n",
    "dsd = load_dataset(name)\n",
    "tds = dsd.with_transform(partial(to_tensor_tfm, mean=xmean, std=xstd))"
   ]
  },
  {
   "cell_type": "code",
   "execution_count": null,
   "id": "c2b09e60",
   "metadata": {},
   "outputs": [
    {
     "ename": "SyntaxError",
     "evalue": "invalid syntax (1399497189.py, line 1)",
     "output_type": "error",
     "traceback": [
      "\u001b[0;36m  Input \u001b[0;32mIn [63]\u001b[0;36m\u001b[0m\n\u001b[0;31m    a=b=dict([True:[], False:[]])\u001b[0m\n\u001b[0m                  ^\u001b[0m\n\u001b[0;31mSyntaxError\u001b[0m\u001b[0;31m:\u001b[0m invalid syntax\n"
     ]
    }
   ],
   "source": [
    "a=b=dict(True:[], False:[])\n",
    "a,b"
   ]
  },
  {
   "cell_type": "code",
   "execution_count": null,
   "id": "21e508ec",
   "metadata": {},
   "outputs": [],
   "source": [
    "def test_speed(cbs, dls):\n",
    "    set_seed(42)\n",
    "    learn = TrainLearner(get_model().to('cpu').apply(init_weights), dls, \n",
    "                         F.cross_entropy, lr=1e-2, cbs=cbs, opt_func=optim.AdamW)\n",
    "    learn.fit(2)"
   ]
  },
  {
   "cell_type": "code",
   "execution_count": null,
   "id": "861f5bcf",
   "metadata": {},
   "outputs": [
    {
     "data": {
      "text/html": [
       "\n",
       "<style>\n",
       "    /* Turns off some styling */\n",
       "    progress {\n",
       "        /* gets rid of default border in Firefox and Opera. */\n",
       "        border: none;\n",
       "        /* Needs to be in here for Safari polyfill so background images work as expected. */\n",
       "        background-size: auto;\n",
       "    }\n",
       "    .progress-bar-interrupted, .progress-bar-interrupted::-webkit-progress-bar {\n",
       "        background: #F44336;\n",
       "    }\n",
       "</style>\n"
      ],
      "text/plain": [
       "<IPython.core.display.HTML object>"
      ]
     },
     "metadata": {},
     "output_type": "display_data"
    },
    {
     "data": {
      "text/html": [
       "<table border=\"1\" class=\"dataframe\">\n",
       "  <thead>\n",
       "    <tr style=\"text-align: left;\">\n",
       "      <th>accuracy</th>\n",
       "      <th>loss</th>\n",
       "      <th>epoch</th>\n",
       "      <th>train</th>\n",
       "    </tr>\n",
       "  </thead>\n",
       "  <tbody>\n",
       "    <tr>\n",
       "      <td>0.766</td>\n",
       "      <td>0.669</td>\n",
       "      <td>0</td>\n",
       "      <td>train</td>\n",
       "    </tr>\n",
       "    <tr>\n",
       "      <td>0.835</td>\n",
       "      <td>0.451</td>\n",
       "      <td>0</td>\n",
       "      <td>eval</td>\n",
       "    </tr>\n",
       "    <tr>\n",
       "      <td>0.862</td>\n",
       "      <td>0.380</td>\n",
       "      <td>1</td>\n",
       "      <td>train</td>\n",
       "    </tr>\n",
       "    <tr>\n",
       "      <td>0.852</td>\n",
       "      <td>0.396</td>\n",
       "      <td>1</td>\n",
       "      <td>eval</td>\n",
       "    </tr>\n",
       "  </tbody>\n",
       "</table>"
      ],
      "text/plain": [
       "<IPython.core.display.HTML object>"
      ]
     },
     "metadata": {},
     "output_type": "display_data"
    },
    {
     "data": {
      "image/png": "[encoded data removed]",
      "text/plain": [
       "<Figure size 432x288 with 1 Axes>"
      ]
     },
     "metadata": {},
     "output_type": "display_data"
    },
    {
     "name": "stdout",
     "output_type": "stream",
     "text": [
      "Fit 2 in: 139.72s, setup: 0.01s, 62.66 ± 5.16s per epoch, 0.08 ± 0.60s per batch\n"
     ]
    }
   ],
   "source": [
    "test_speed(eager_cbs, dls=DataLoaders.from_dd(tds, bs, num_workers=4, ))"
   ]
  },
  {
   "cell_type": "code",
   "execution_count": null,
   "id": "945e2851",
   "metadata": {},
   "outputs": [
    {
     "data": {
      "text/html": [
       "\n",
       "<style>\n",
       "    /* Turns off some styling */\n",
       "    progress {\n",
       "        /* gets rid of default border in Firefox and Opera. */\n",
       "        border: none;\n",
       "        /* Needs to be in here for Safari polyfill so background images work as expected. */\n",
       "        background-size: auto;\n",
       "    }\n",
       "    .progress-bar-interrupted, .progress-bar-interrupted::-webkit-progress-bar {\n",
       "        background: #F44336;\n",
       "    }\n",
       "</style>\n"
      ],
      "text/plain": [
       "<IPython.core.display.HTML object>"
      ]
     },
     "metadata": {},
     "output_type": "display_data"
    },
    {
     "data": {
      "text/html": [
       "<table border=\"1\" class=\"dataframe\">\n",
       "  <thead>\n",
       "    <tr style=\"text-align: left;\">\n",
       "      <th>accuracy</th>\n",
       "      <th>loss</th>\n",
       "      <th>epoch</th>\n",
       "      <th>train</th>\n",
       "    </tr>\n",
       "  </thead>\n",
       "  <tbody>\n",
       "    <tr>\n",
       "      <td>0.766</td>\n",
       "      <td>0.669</td>\n",
       "      <td>0</td>\n",
       "      <td>train</td>\n",
       "    </tr>\n",
       "    <tr>\n",
       "      <td>0.836</td>\n",
       "      <td>0.448</td>\n",
       "      <td>0</td>\n",
       "      <td>eval</td>\n",
       "    </tr>\n",
       "    <tr>\n",
       "      <td>0.861</td>\n",
       "      <td>0.382</td>\n",
       "      <td>1</td>\n",
       "      <td>train</td>\n",
       "    </tr>\n",
       "    <tr>\n",
       "      <td>0.853</td>\n",
       "      <td>0.399</td>\n",
       "      <td>1</td>\n",
       "      <td>eval</td>\n",
       "    </tr>\n",
       "  </tbody>\n",
       "</table>"
      ],
      "text/plain": [
       "<IPython.core.display.HTML object>"
      ]
     },
     "metadata": {},
     "output_type": "display_data"
    },
    {
     "data": {
      "image/png": "[encoded data removed]",
      "text/plain": [
       "<Figure size 432x288 with 1 Axes>"
      ]
     },
     "metadata": {},
     "output_type": "display_data"
    },
    {
     "name": "stdout",
     "output_type": "stream",
     "text": [
      "Fit 2 in: 99.16s, setup: 0.01s, 42.35 ± 0.12s per epoch, 0.01 ± 0.00s per batch\n"
     ]
    }
   ],
   "source": [
    "test_speed(lazy_cbs, dls=DataLoaders.from_dd(tds, bs, num_workers=4, ))"
   ]
  },
  {
   "cell_type": "code",
   "execution_count": null,
   "id": "779d0e41",
   "metadata": {},
   "outputs": [
    {
     "name": "stdout",
     "output_type": "stream",
     "text": [
      "43.5 s ± 0 ns per loop (mean ± std. dev. of 1 run, 1 loop each)\n"
     ]
    }
   ],
   "source": [
    "%%timeit -n 1 -r 1\n",
    "tds.cached = cache_dataset_as_dict(tds)"
   ]
  },
  {
   "cell_type": "code",
   "execution_count": null,
   "id": "6547edf0",
   "metadata": {},
   "outputs": [
    {
     "data": {
      "text/html": [
       "\n",
       "<style>\n",
       "    /* Turns off some styling */\n",
       "    progress {\n",
       "        /* gets rid of default border in Firefox and Opera. */\n",
       "        border: none;\n",
       "        /* Needs to be in here for Safari polyfill so background images work as expected. */\n",
       "        background-size: auto;\n",
       "    }\n",
       "    .progress-bar-interrupted, .progress-bar-interrupted::-webkit-progress-bar {\n",
       "        background: #F44336;\n",
       "    }\n",
       "</style>\n"
      ],
      "text/plain": [
       "<IPython.core.display.HTML object>"
      ]
     },
     "metadata": {},
     "output_type": "display_data"
    },
    {
     "data": {
      "text/html": [
       "<table border=\"1\" class=\"dataframe\">\n",
       "  <thead>\n",
       "    <tr style=\"text-align: left;\">\n",
       "      <th>accuracy</th>\n",
       "      <th>loss</th>\n",
       "      <th>epoch</th>\n",
       "      <th>train</th>\n",
       "    </tr>\n",
       "  </thead>\n",
       "  <tbody>\n",
       "    <tr>\n",
       "      <td>0.766</td>\n",
       "      <td>0.669</td>\n",
       "      <td>0</td>\n",
       "      <td>train</td>\n",
       "    </tr>\n",
       "    <tr>\n",
       "      <td>0.835</td>\n",
       "      <td>0.451</td>\n",
       "      <td>0</td>\n",
       "      <td>eval</td>\n",
       "    </tr>\n",
       "    <tr>\n",
       "      <td>0.862</td>\n",
       "      <td>0.381</td>\n",
       "      <td>1</td>\n",
       "      <td>train</td>\n",
       "    </tr>\n",
       "    <tr>\n",
       "      <td>0.850</td>\n",
       "      <td>0.400</td>\n",
       "      <td>1</td>\n",
       "      <td>eval</td>\n",
       "    </tr>\n",
       "  </tbody>\n",
       "</table>"
      ],
      "text/plain": [
       "<IPython.core.display.HTML object>"
      ]
     },
     "metadata": {},
     "output_type": "display_data"
    },
    {
     "data": {
      "image/png": "[encoded data removed]",
      "text/plain": [
       "<Figure size 432x288 with 1 Axes>"
      ]
     },
     "metadata": {},
     "output_type": "display_data"
    },
    {
     "name": "stdout",
     "output_type": "stream",
     "text": [
      "Fit 2 in: 36.83s, setup: 0.00s, 18.12 ± 0.89s per epoch, 0.03 ± 0.00s per batch\n"
     ]
    }
   ],
   "source": [
    "test_speed(eager_cbs, dls=DataLoaders.from_dd(tds.cached, bs, num_workers=0, ))"
   ]
  },
  {
   "cell_type": "code",
   "execution_count": null,
   "id": "1da7e735",
   "metadata": {},
   "outputs": [
    {
     "data": {
      "text/html": [
       "\n",
       "<style>\n",
       "    /* Turns off some styling */\n",
       "    progress {\n",
       "        /* gets rid of default border in Firefox and Opera. */\n",
       "        border: none;\n",
       "        /* Needs to be in here for Safari polyfill so background images work as expected. */\n",
       "        background-size: auto;\n",
       "    }\n",
       "    .progress-bar-interrupted, .progress-bar-interrupted::-webkit-progress-bar {\n",
       "        background: #F44336;\n",
       "    }\n",
       "</style>\n"
      ],
      "text/plain": [
       "<IPython.core.display.HTML object>"
      ]
     },
     "metadata": {},
     "output_type": "display_data"
    },
    {
     "data": {
      "text/html": [
       "<table border=\"1\" class=\"dataframe\">\n",
       "  <thead>\n",
       "    <tr style=\"text-align: left;\">\n",
       "      <th>accuracy</th>\n",
       "      <th>loss</th>\n",
       "      <th>epoch</th>\n",
       "      <th>train</th>\n",
       "    </tr>\n",
       "  </thead>\n",
       "  <tbody>\n",
       "    <tr>\n",
       "      <td>0.765</td>\n",
       "      <td>0.669</td>\n",
       "      <td>0</td>\n",
       "      <td>train</td>\n",
       "    </tr>\n",
       "    <tr>\n",
       "      <td>0.833</td>\n",
       "      <td>0.453</td>\n",
       "      <td>0</td>\n",
       "      <td>eval</td>\n",
       "    </tr>\n",
       "    <tr>\n",
       "      <td>0.863</td>\n",
       "      <td>0.379</td>\n",
       "      <td>1</td>\n",
       "      <td>train</td>\n",
       "    </tr>\n",
       "    <tr>\n",
       "      <td>0.850</td>\n",
       "      <td>0.396</td>\n",
       "      <td>1</td>\n",
       "      <td>eval</td>\n",
       "    </tr>\n",
       "  </tbody>\n",
       "</table>"
      ],
      "text/plain": [
       "<IPython.core.display.HTML object>"
      ]
     },
     "metadata": {},
     "output_type": "display_data"
    },
    {
     "data": {
      "image/png": "[encoded data removed]",
      "text/plain": [
       "<Figure size 432x288 with 1 Axes>"
      ]
     },
     "metadata": {},
     "output_type": "display_data"
    },
    {
     "name": "stdout",
     "output_type": "stream",
     "text": [
      "Fit 2 in: 4.05s, setup: 0.01s, 1.57 ± 0.11s per epoch, 0.01 ± 0.00s per batch\n"
     ]
    }
   ],
   "source": [
    "test_speed(lazy_cbs, dls=DataLoaders.from_dd(tds.cached, bs, num_workers=0, ))"
   ]
  },
  {
   "cell_type": "code",
   "execution_count": null,
   "id": "3ae3d609",
   "metadata": {},
   "outputs": [],
   "source": [
    "def test_speed(cbs, dls):\n",
    "    set_seed(42)\n",
    "    learn = TrainLearner(get_model().to('cpu').apply(init_weights), dls, \n",
    "                         F.cross_entropy, lr=1e-2, cbs=cbs, opt_func=optim.AdamW)\n",
    "    learn.fit(5)"
   ]
  },
  {
   "cell_type": "code",
   "execution_count": null,
   "id": "5ec96d33",
   "metadata": {},
   "outputs": [
    {
     "name": "stdout",
     "output_type": "stream",
     "text": [
      "def_device='cuda'\n"
     ]
    },
    {
     "data": {
      "text/html": [
       "\n",
       "<style>\n",
       "    /* Turns off some styling */\n",
       "    progress {\n",
       "        /* gets rid of default border in Firefox and Opera. */\n",
       "        border: none;\n",
       "        /* Needs to be in here for Safari polyfill so background images work as expected. */\n",
       "        background-size: auto;\n",
       "    }\n",
       "    .progress-bar-interrupted, .progress-bar-interrupted::-webkit-progress-bar {\n",
       "        background: #F44336;\n",
       "    }\n",
       "</style>\n"
      ],
      "text/plain": [
       "<IPython.core.display.HTML object>"
      ]
     },
     "metadata": {},
     "output_type": "display_data"
    },
    {
     "data": {
      "text/html": [
       "<table border=\"1\" class=\"dataframe\">\n",
       "  <thead>\n",
       "    <tr style=\"text-align: left;\">\n",
       "      <th>accuracy</th>\n",
       "      <th>loss</th>\n",
       "      <th>epoch</th>\n",
       "      <th>train</th>\n",
       "    </tr>\n",
       "  </thead>\n",
       "  <tbody>\n",
       "    <tr>\n",
       "      <td>0.766</td>\n",
       "      <td>0.669</td>\n",
       "      <td>0</td>\n",
       "      <td>train</td>\n",
       "    </tr>\n",
       "    <tr>\n",
       "      <td>0.834</td>\n",
       "      <td>0.452</td>\n",
       "      <td>0</td>\n",
       "      <td>eval</td>\n",
       "    </tr>\n",
       "    <tr>\n",
       "      <td>0.862</td>\n",
       "      <td>0.381</td>\n",
       "      <td>1</td>\n",
       "      <td>train</td>\n",
       "    </tr>\n",
       "    <tr>\n",
       "      <td>0.846</td>\n",
       "      <td>0.408</td>\n",
       "      <td>1</td>\n",
       "      <td>eval</td>\n",
       "    </tr>\n",
       "    <tr>\n",
       "      <td>0.880</td>\n",
       "      <td>0.328</td>\n",
       "      <td>2</td>\n",
       "      <td>train</td>\n",
       "    </tr>\n",
       "    <tr>\n",
       "      <td>0.875</td>\n",
       "      <td>0.351</td>\n",
       "      <td>2</td>\n",
       "      <td>eval</td>\n",
       "    </tr>\n",
       "    <tr>\n",
       "      <td>0.891</td>\n",
       "      <td>0.294</td>\n",
       "      <td>3</td>\n",
       "      <td>train</td>\n",
       "    </tr>\n",
       "    <tr>\n",
       "      <td>0.872</td>\n",
       "      <td>0.345</td>\n",
       "      <td>3</td>\n",
       "      <td>eval</td>\n",
       "    </tr>\n",
       "    <tr>\n",
       "      <td>0.897</td>\n",
       "      <td>0.275</td>\n",
       "      <td>4</td>\n",
       "      <td>train</td>\n",
       "    </tr>\n",
       "    <tr>\n",
       "      <td>0.882</td>\n",
       "      <td>0.326</td>\n",
       "      <td>4</td>\n",
       "      <td>eval</td>\n",
       "    </tr>\n",
       "  </tbody>\n",
       "</table>"
      ],
      "text/plain": [
       "<IPython.core.display.HTML object>"
      ]
     },
     "metadata": {},
     "output_type": "display_data"
    },
    {
     "data": {
      "image/png": "[encoded data removed]",
      "text/plain": [
       "<Figure size 432x288 with 1 Axes>"
      ]
     },
     "metadata": {},
     "output_type": "display_data"
    },
    {
     "name": "stdout",
     "output_type": "stream",
     "text": [
      "Fit 5 in: 8.76s, setup: 0.00s, 1.37 ± 0.08s per epoch, 0.01 ± 0.00s per batch\n"
     ]
    }
   ],
   "source": [
    "lazy_cbs = [DeviceCB(), LazyMetricsCB(accuracy=MulticlassAccuracy()), LazyProgressCB(plot=True), TimeItCB()]\n",
    "test_speed(lazy_cbs, dls=DataLoaders.from_dd(tds.cached, bs, num_workers=0, ))"
   ]
  },
  {
   "cell_type": "code",
   "execution_count": null,
   "id": "4ef95391",
   "metadata": {},
   "outputs": [
    {
     "name": "stdout",
     "output_type": "stream",
     "text": [
      "def_device='cuda'\n",
      "Before self.epochs[learn.training]=[1676983679.4958346]\n",
      "{'accuracy': '0.766', 'loss': '0.669', 'epoch': 0, 'train': 'train'}\n",
      "After self.epochs[learn.training]=[1.0893940925598145]\n",
      "Before self.epochs[learn.training]=[1676983680.5879033]\n",
      "{'accuracy': '0.836', 'loss': '0.450', 'epoch': 0, 'train': 'eval'}\n",
      "After self.epochs[learn.training]=[0.08417010307312012]\n",
      "Before self.epochs[learn.training]=[1.0893940925598145, 1676983680.67332]\n",
      "{'accuracy': '0.861', 'loss': '0.382', 'epoch': 1, 'train': 'train'}\n",
      "After self.epochs[learn.training]=[1.0893940925598145, 1.0076909065246582]\n",
      "Before self.epochs[learn.training]=[0.08417010307312012, 1676983681.682539]\n",
      "{'accuracy': '0.850', 'loss': '0.403', 'epoch': 1, 'train': 'eval'}\n",
      "After self.epochs[learn.training]=[0.08417010307312012, 0.07034564018249512]\n",
      "Before self.epochs[learn.training]=[1.0893940925598145, 1.0076909065246582, 1676983681.7542882]\n",
      "{'accuracy': '0.880', 'loss': '0.329', 'epoch': 2, 'train': 'train'}\n",
      "After self.epochs[learn.training]=[1.0893940925598145, 1.0076909065246582, 0.9577429294586182]\n",
      "Before self.epochs[learn.training]=[0.08417010307312012, 0.07034564018249512, 1676983682.7138534]\n",
      "{'accuracy': '0.872', 'loss': '0.349', 'epoch': 2, 'train': 'eval'}\n",
      "After self.epochs[learn.training]=[0.08417010307312012, 0.07034564018249512, 0.06749701499938965]\n",
      "Before self.epochs[learn.training]=[1.0893940925598145, 1.0076909065246582, 0.9577429294586182, 1676983682.7823033]\n",
      "{'accuracy': '0.891', 'loss': '0.296', 'epoch': 3, 'train': 'train'}\n",
      "After self.epochs[learn.training]=[1.0893940925598145, 1.0076909065246582, 0.9577429294586182, 1.0099692344665527]\n",
      "Before self.epochs[learn.training]=[0.08417010307312012, 0.07034564018249512, 0.06749701499938965, 1676983683.7937937]\n",
      "{'accuracy': '0.873', 'loss': '0.343', 'epoch': 3, 'train': 'eval'}\n",
      "After self.epochs[learn.training]=[0.08417010307312012, 0.07034564018249512, 0.06749701499938965, 0.06504225730895996]\n",
      "Before self.epochs[learn.training]=[1.0893940925598145, 1.0076909065246582, 0.9577429294586182, 1.0099692344665527, 1676983683.8598464]\n",
      "{'accuracy': '0.899', 'loss': '0.274', 'epoch': 4, 'train': 'train'}\n",
      "After self.epochs[learn.training]=[1.0893940925598145, 1.0076909065246582, 0.9577429294586182, 1.0099692344665527, 0.9934530258178711]\n",
      "Before self.epochs[learn.training]=[0.08417010307312012, 0.07034564018249512, 0.06749701499938965, 0.06504225730895996, 1676983684.855216]\n",
      "{'accuracy': '0.881', 'loss': '0.326', 'epoch': 4, 'train': 'eval'}\n",
      "After self.epochs[learn.training]=[0.08417010307312012, 0.07034564018249512, 0.06749701499938965, 0.06504225730895996, 0.06425738334655762]\n",
      "self.epochs[learn.training]=[0.08417010307312012, 0.07034564018249512, 0.06749701499938965, 0.06504225730895996, 0.06425738334655762]\n",
      "Fit 5 in: 5.42s, setup: 0.00s, 1.01 ± 0.04s per epoch, 0.01 ± 0.00s per batch\n"
     ]
    }
   ],
   "source": [
    "_cbs = [DeviceCB(), LazyMetricsCB(accuracy=MulticlassAccuracy()), TimeItCB()]\n",
    "test_speed(_cbs, dls=DataLoaders.from_dd(tds.cached, bs, num_workers=0, ))"
   ]
  },
  {
   "cell_type": "code",
   "execution_count": null,
   "id": "aa07f548",
   "metadata": {},
   "outputs": [],
   "source": []
  }
 ],
 "metadata": {
  "kernelspec": {
   "display_name": "Python 3 (ipykernel)",
   "language": "python",
   "name": "python3"
  }
 },
 "nbformat": 4,
 "nbformat_minor": 5
}
