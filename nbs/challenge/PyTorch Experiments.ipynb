{
 "cells": [
  {
   "cell_type": "code",
   "execution_count": null,
   "id": "c8f8973c",
   "metadata": {},
   "outputs": [
    {
     "name": "stderr",
     "output_type": "stream",
     "text": [
      "/home/fmussari/mambaforge/envs/fastaiv3/lib/python3.9/site-packages/torchvision/io/image.py:13: UserWarning: Failed to load image Python extension: libtorch_cuda_cu.so: cannot open shared object file: No such file or directory\n",
      "  warn(f\"Failed to load image Python extension: {e}\")\n"
     ]
    }
   ],
   "source": [
    "import torch\n",
    "import torchvision.transforms.functional as TF, torch.nn.functional as F"
   ]
  },
  {
   "cell_type": "code",
   "execution_count": null,
   "id": "ee5eb8db",
   "metadata": {},
   "outputs": [
    {
     "data": {
      "text/plain": [
       "(torch.Size([3, 4]), torch.Size([3, 4]))"
      ]
     },
     "execution_count": null,
     "metadata": {},
     "output_type": "execute_result"
    }
   ],
   "source": [
    "preds1 = torch.tensor([[0.,2.,5.,8.], [-5.,-2.,5.,-8.], [-2.5,-3.,2.,8.]])\n",
    "preds2 = torch.tensor([[0.,-2.,-5.,-8.], [5.,-2.,4.,-8.], [2.5,-2.1,-4.,-8.3]])\n",
    "preds3 = torch.tensor([[-0.58,-2.5,-3.5,-8.], [-5.,2.,-4.,-8.], [-2.5,2.,4.,-8.3]])\n",
    "preds4 = torch.tensor([[-0.58,-2.5,-3.5,5.], [-5.,2.,-4.,3.], [-2.5,2.,4.,3]])\n",
    "preds5 = torch.tensor([[-0.58,2.5,-3.5,1.], [-5.,2.,-4.,1.], [2.5,2.,2.,3]])\n",
    "preds1.shape, preds2.shape"
   ]
  },
  {
   "cell_type": "code",
   "execution_count": null,
   "id": "837976d7",
   "metadata": {},
   "outputs": [],
   "source": [
    "lista_preds = [preds1, preds2, preds3, preds4, preds5]"
   ]
  },
  {
   "cell_type": "code",
   "execution_count": null,
   "id": "d33356b2",
   "metadata": {},
   "outputs": [
    {
     "data": {
      "text/plain": [
       "[tensor([[ 0.0000,  2.0000,  5.0000,  8.0000],\n",
       "         [-5.0000, -2.0000,  5.0000, -8.0000],\n",
       "         [-2.5000, -3.0000,  2.0000,  8.0000]]),\n",
       " tensor([[ 0.0000, -2.0000, -5.0000, -8.0000],\n",
       "         [ 5.0000, -2.0000,  4.0000, -8.0000],\n",
       "         [ 2.5000, -2.1000, -4.0000, -8.3000]]),\n",
       " tensor([[-0.5800, -2.5000, -3.5000, -8.0000],\n",
       "         [-5.0000,  2.0000, -4.0000, -8.0000],\n",
       "         [-2.5000,  2.0000,  4.0000, -8.3000]]),\n",
       " tensor([[-0.5800, -2.5000, -3.5000,  5.0000],\n",
       "         [-5.0000,  2.0000, -4.0000,  3.0000],\n",
       "         [-2.5000,  2.0000,  4.0000,  3.0000]]),\n",
       " tensor([[-0.5800,  2.5000, -3.5000,  1.0000],\n",
       "         [-5.0000,  2.0000, -4.0000,  1.0000],\n",
       "         [ 2.5000,  2.0000,  2.0000,  3.0000]])]"
      ]
     },
     "execution_count": null,
     "metadata": {},
     "output_type": "execute_result"
    }
   ],
   "source": [
    "lista_preds"
   ]
  },
  {
   "cell_type": "code",
   "execution_count": null,
   "id": "d9349401",
   "metadata": {},
   "outputs": [],
   "source": [
    "lista_targets = [\n",
    "    torch.tensor([[0.,0.,0.,1.], [0.,1.,0.,0.], [0.,0.,1.,0.]]),\n",
    "    torch.tensor([[0.,0.,1.,0.], [0.,0.,1.,0.], [1.,0.,0.,0.]]),\n",
    "    torch.tensor([[1.,0.,0.,0.], [0.,0.,1.,0.], [0.,1.,0.,0.]]),\n",
    "    torch.tensor([[0.,0.,0.,1.], [0.,0.,0.,1.], [0.,0.,0.,1.]]),\n",
    "    torch.tensor([[0.,1.,0.,0.], [0.,1.,0.,0.], [1.,0.,0.,0.]])\n",
    "]"
   ]
  },
  {
   "cell_type": "code",
   "execution_count": null,
   "id": "362dd0ea",
   "metadata": {},
   "outputs": [
    {
     "data": {
      "text/plain": [
       "tensor([[ 0.0000,  2.0000,  5.0000,  8.0000],\n",
       "        [-5.0000, -2.0000,  5.0000, -8.0000],\n",
       "        [-2.5000, -3.0000,  2.0000,  8.0000],\n",
       "        [ 0.0000, -2.0000, -5.0000, -8.0000],\n",
       "        [ 5.0000, -2.0000,  4.0000, -8.0000],\n",
       "        [ 2.5000, -2.1000, -4.0000, -8.3000],\n",
       "        [-0.5800, -2.5000, -3.5000, -8.0000],\n",
       "        [-5.0000,  2.0000, -4.0000, -8.0000],\n",
       "        [-2.5000,  2.0000,  4.0000, -8.3000],\n",
       "        [-0.5800, -2.5000, -3.5000,  5.0000],\n",
       "        [-5.0000,  2.0000, -4.0000,  3.0000],\n",
       "        [-2.5000,  2.0000,  4.0000,  3.0000],\n",
       "        [-0.5800,  2.5000, -3.5000,  1.0000],\n",
       "        [-5.0000,  2.0000, -4.0000,  1.0000],\n",
       "        [ 2.5000,  2.0000,  2.0000,  3.0000]])"
      ]
     },
     "execution_count": null,
     "metadata": {},
     "output_type": "execute_result"
    }
   ],
   "source": [
    "preds = torch.cat(lista_preds, dim=0)\n",
    "preds"
   ]
  },
  {
   "cell_type": "code",
   "execution_count": null,
   "id": "09c6e22b",
   "metadata": {},
   "outputs": [
    {
     "data": {
      "text/plain": [
       "tensor([[0., 0., 0., 1.],\n",
       "        [0., 1., 0., 0.],\n",
       "        [0., 0., 1., 0.],\n",
       "        [0., 0., 1., 0.],\n",
       "        [0., 0., 1., 0.],\n",
       "        [1., 0., 0., 0.],\n",
       "        [1., 0., 0., 0.],\n",
       "        [0., 0., 1., 0.],\n",
       "        [0., 1., 0., 0.],\n",
       "        [0., 0., 0., 1.],\n",
       "        [0., 0., 0., 1.],\n",
       "        [0., 0., 0., 1.],\n",
       "        [0., 1., 0., 0.],\n",
       "        [0., 1., 0., 0.],\n",
       "        [1., 0., 0., 0.]])"
      ]
     },
     "execution_count": null,
     "metadata": {},
     "output_type": "execute_result"
    }
   ],
   "source": [
    "targets = torch.cat(lista_targets, dim=0)\n",
    "targets"
   ]
  },
  {
   "cell_type": "code",
   "execution_count": null,
   "id": "1617732c",
   "metadata": {},
   "outputs": [
    {
     "data": {
      "text/plain": [
       "torch.Size([15, 4])"
      ]
     },
     "execution_count": null,
     "metadata": {},
     "output_type": "execute_result"
    }
   ],
   "source": [
    "targets.shape"
   ]
  },
  {
   "cell_type": "code",
   "execution_count": null,
   "id": "353bd9b7",
   "metadata": {},
   "outputs": [
    {
     "data": {
      "text/plain": [
       "tensor([[0., 0., 0., 1.],\n",
       "        [0., 1., 0., 0.],\n",
       "        [0., 0., 1., 0.],\n",
       "        [0., 0., 1., 0.],\n",
       "        [0., 0., 1., 0.],\n",
       "        [1., 0., 0., 0.],\n",
       "        [1., 0., 0., 0.],\n",
       "        [0., 0., 1., 0.],\n",
       "        [0., 1., 0., 0.],\n",
       "        [0., 0., 0., 1.],\n",
       "        [0., 0., 0., 1.],\n",
       "        [0., 0., 0., 1.],\n",
       "        [0., 1., 0., 0.],\n",
       "        [0., 1., 0., 0.],\n",
       "        [1., 0., 0., 0.]])"
      ]
     },
     "execution_count": null,
     "metadata": {},
     "output_type": "execute_result"
    }
   ],
   "source": [
    "targets[:,:]"
   ]
  },
  {
   "cell_type": "code",
   "execution_count": null,
   "id": "a5e3bd1d",
   "metadata": {},
   "outputs": [
    {
     "data": {
      "text/plain": [
       "[[0.0, 0.0, 0.0, 1.0],\n",
       " [0.0, 0.0, 1.0, 0.0],\n",
       " [0.0, 1.0, 0.0, 0.0],\n",
       " [1.0, 0.0, 0.0, 0.0]]"
      ]
     },
     "execution_count": null,
     "metadata": {},
     "output_type": "execute_result"
    }
   ],
   "source": [
    "target_lst = targets.unique(dim=0).tolist()\n",
    "target_lst"
   ]
  },
  {
   "cell_type": "code",
   "execution_count": null,
   "id": "94ebf074",
   "metadata": {},
   "outputs": [
    {
     "data": {
      "text/plain": [
       "tensor([ True, False, False, False, False, False, False, False, False,  True,\n",
       "         True,  True, False, False, False])"
      ]
     },
     "execution_count": null,
     "metadata": {},
     "output_type": "execute_result"
    }
   ],
   "source": [
    "(torch.tensor([0., 0., 0., 1.]).expand(15, 4)==targets).all(dim=1)"
   ]
  },
  {
   "cell_type": "code",
   "execution_count": null,
   "id": "49b89e37",
   "metadata": {},
   "outputs": [
    {
     "name": "stdout",
     "output_type": "stream",
     "text": [
      "tensor([0., 0., 0., 1.])\n",
      "tensor([0., 0., 1., 0.])\n",
      "tensor([0., 1., 0., 0.])\n",
      "tensor([1., 0., 0., 0.])\n"
     ]
    },
    {
     "data": {
      "text/plain": [
       "{tensor([0., 0., 0., 1.]): tensor([ 0,  9, 10, 11]),\n",
       " tensor([0., 0., 1., 0.]): tensor([2, 3, 4, 7]),\n",
       " tensor([0., 1., 0., 0.]): tensor([ 1,  8, 12, 13]),\n",
       " tensor([1., 0., 0., 0.]): tensor([ 5,  6, 14])}"
      ]
     },
     "execution_count": null,
     "metadata": {},
     "output_type": "execute_result"
    }
   ],
   "source": [
    "u,v = targets.shape\n",
    "tar_index = {}\n",
    "\n",
    "for k in targets.unique(dim=0):\n",
    "    print(k)\n",
    "    tar_index[k] = (k.expand(u, v)==targets).all(dim=1).nonzero().flatten()\n",
    "tar_index"
   ]
  },
  {
   "cell_type": "code",
   "execution_count": null,
   "id": "9f77617e",
   "metadata": {},
   "outputs": [
    {
     "data": {
      "text/plain": [
       "torch.Size([23])"
      ]
     },
     "execution_count": null,
     "metadata": {},
     "output_type": "execute_result"
    }
   ],
   "source": [
    "ta = torch.tensor( [0,1,2,3,4,5,6,7,8,9,10,11,12,13,14,15,5,7,8,9,10,12,34] )\n",
    "u = ta.shape\n",
    "u"
   ]
  },
  {
   "cell_type": "code",
   "execution_count": null,
   "id": "4b4e2edb",
   "metadata": {},
   "outputs": [
    {
     "data": {
      "text/plain": [
       "{tensor(0): tensor([0]),\n",
       " tensor(1): tensor([1]),\n",
       " tensor(2): tensor([2]),\n",
       " tensor(3): tensor([3]),\n",
       " tensor(4): tensor([4]),\n",
       " tensor(5): tensor([ 5, 16]),\n",
       " tensor(6): tensor([6]),\n",
       " tensor(7): tensor([ 7, 17]),\n",
       " tensor(8): tensor([ 8, 18]),\n",
       " tensor(9): tensor([ 9, 19]),\n",
       " tensor(10): tensor([10, 20]),\n",
       " tensor(11): tensor([11]),\n",
       " tensor(12): tensor([12, 21]),\n",
       " tensor(13): tensor([13]),\n",
       " tensor(14): tensor([14]),\n",
       " tensor(15): tensor([15]),\n",
       " tensor(34): tensor([22])}"
      ]
     },
     "execution_count": null,
     "metadata": {},
     "output_type": "execute_result"
    }
   ],
   "source": [
    "ta_index = {}\n",
    "for k in ta.unique(dim=0):\n",
    "    ta_index[k]=(ta==k).nonzero().flatten()\n",
    "ta_index"
   ]
  },
  {
   "cell_type": "code",
   "execution_count": null,
   "id": "f0642f8a",
   "metadata": {},
   "outputs": [],
   "source": [
    "losses = F.cross_entropy(preds, targets, reduce=False)"
   ]
  },
  {
   "cell_type": "code",
   "execution_count": null,
   "id": "cfdca1d8",
   "metadata": {},
   "outputs": [
    {
     "data": {
      "text/plain": [
       "tensor([5.1265e-02, 7.0010e+00, 6.0025e+00, 5.1331e+00, 1.3139e+00, 1.1509e-02,\n",
       "        1.8327e-01, 6.0034e+00, 2.1283e+00, 4.5189e-03, 3.1417e-01, 1.4086e+00,\n",
       "        2.4025e-01, 3.1574e-01, 1.3511e+00])"
      ]
     },
     "execution_count": null,
     "metadata": {},
     "output_type": "execute_result"
    }
   ],
   "source": [
    "losses"
   ]
  },
  {
   "cell_type": "code",
   "execution_count": null,
   "id": "4a0c8f38",
   "metadata": {},
   "outputs": [
    {
     "data": {
      "text/plain": [
       "{tensor([0., 0., 0., 1.]): tensor([0.0513, 0.0045, 0.3142, 1.4086]),\n",
       " tensor([0., 0., 1., 0.]): tensor([6.0025, 5.1331, 1.3139, 6.0034]),\n",
       " tensor([0., 1., 0., 0.]): tensor([7.0010, 2.1283, 0.2403, 0.3157]),\n",
       " tensor([1., 0., 0., 0.]): tensor([0.0115, 0.1833, 1.3511])}"
      ]
     },
     "execution_count": null,
     "metadata": {},
     "output_type": "execute_result"
    }
   ],
   "source": [
    "tar_losses = {}\n",
    "\n",
    "for k,indcs in tar_index.items():\n",
    "    tar_losses[k]=losses[indcs]\n",
    "tar_losses"
   ]
  },
  {
   "cell_type": "code",
   "execution_count": null,
   "id": "4c679c95",
   "metadata": {},
   "outputs": [
    {
     "data": {
      "text/plain": [
       "{tensor([0., 0., 0., 1.]): tensor([3, 2, 0, 1]),\n",
       " tensor([0., 0., 1., 0.]): tensor([3, 0, 1, 2]),\n",
       " tensor([0., 1., 0., 0.]): tensor([0, 1, 3, 2]),\n",
       " tensor([1., 0., 0., 0.]): tensor([2, 1, 0])}"
      ]
     },
     "execution_count": null,
     "metadata": {},
     "output_type": "execute_result"
    }
   ],
   "source": [
    "tar_losses_top = {}\n",
    "for k,indcs in tar_index.items():\n",
    "    tar_losses_top[k] = torch.topk(losses[indcs], losses[indcs].shape[0]).indices\n",
    "    \n",
    "tar_losses_top"
   ]
  },
  {
   "cell_type": "code",
   "execution_count": null,
   "id": "aef2ac7f",
   "metadata": {},
   "outputs": [],
   "source": []
  },
  {
   "cell_type": "code",
   "execution_count": null,
   "id": "6abded45",
   "metadata": {},
   "outputs": [
    {
     "data": {
      "text/plain": [
       "tensor([ 1,  7,  2,  3,  8, 11, 14,  4, 13, 10, 12,  6,  0,  5,  9])"
      ]
     },
     "execution_count": null,
     "metadata": {},
     "output_type": "execute_result"
    }
   ],
   "source": [
    "sampler_top_losses = torch.topk(losses, preds.shape[0]).indices\n",
    "sampler_top_losses"
   ]
  },
  {
   "cell_type": "code",
   "execution_count": null,
   "id": "7b90d3b7",
   "metadata": {},
   "outputs": [
    {
     "name": "stdout",
     "output_type": "stream",
     "text": [
      "self_num_samples=15\n",
      "n=6\n"
     ]
    },
    {
     "name": "stderr",
     "output_type": "stream",
     "text": [
      "/tmp/ipykernel_219/1020001491.py:11: UserWarning: To copy construct from a tensor, it is recommended to use sourceTensor.clone().detach() or sourceTensor.clone().detach().requires_grad_(True), rather than torch.tensor(sourceTensor).\n",
      "  torch.tensor(sampler_top_losses.clone().detach()[:n]), dims=(0,)\n"
     ]
    },
    {
     "data": {
      "text/plain": [
       "tensor([11,  8,  3,  2,  7,  1])"
      ]
     },
     "execution_count": null,
     "metadata": {},
     "output_type": "execute_result"
    }
   ],
   "source": [
    "self_epoch = 2\n",
    "self_n = { 0: 0, 1: 0.21, 2: 0.42, 3: 0.21, 4: 0 }\n",
    "\n",
    "self_num_samples = sampler_top_losses.size(0)\n",
    "print(f'{self_num_samples=}')\n",
    "\n",
    "n = int(self_n[self_epoch] * self_num_samples)\n",
    "print(f'{n=}')\n",
    "\n",
    "inverted_losses_for_epochs = torch.flip(\n",
    "    torch.tensor(sampler_top_losses.clone().detach()[:n]), dims=(0,)\n",
    ").cpu()\n",
    "\n",
    "inverted_losses_for_epochs"
   ]
  },
  {
   "cell_type": "code",
   "execution_count": null,
   "id": "11f90d0b",
   "metadata": {},
   "outputs": [
    {
     "data": {
      "text/plain": [
       "(tensor([6, 0, 5]), tensor([1, 7, 2, 3, 8, 4, 6, 0, 5]), tensor([2, 7, 1]))"
      ]
     },
     "execution_count": null,
     "metadata": {},
     "output_type": "execute_result"
    }
   ],
   "source": [
    "sampler_top_losses[-n:], sampler_top_losses, inverted_losses_for_epochs"
   ]
  },
  {
   "cell_type": "code",
   "execution_count": null,
   "id": "beb79a10",
   "metadata": {},
   "outputs": [
    {
     "data": {
      "text/plain": [
       "[1, 4, 0, 2, 6, 7, 8, 3, 5]"
      ]
     },
     "execution_count": null,
     "metadata": {},
     "output_type": "execute_result"
    }
   ],
   "source": [
    "# epoch=0\n",
    "rand_tensor = torch.randperm(self_num_samples).tolist()\n",
    "self_data_indexes_for_epoch = rand_tensor\n",
    "self_data_indexes_for_epoch"
   ]
  },
  {
   "cell_type": "code",
   "execution_count": null,
   "id": "839ed7d3",
   "metadata": {},
   "outputs": [
    {
     "data": {
      "text/plain": [
       "(tensor([8, 1, 7]), tensor([0, 3, 4]))"
      ]
     },
     "execution_count": null,
     "metadata": {},
     "output_type": "execute_result"
    }
   ],
   "source": [
    "# epoch=2\n",
    "rand_tensor = torch.randperm(self_num_samples).tolist()\n",
    "\n",
    "self_data_indexes_for_epoch = torch.tensor(self_data_indexes_for_epoch)\n",
    "self_data_indexes_for_epoch[sampler_top_losses[-n:]], self_data_indexes_for_epoch[inverted_losses_for_epochs]"
   ]
  },
  {
   "cell_type": "code",
   "execution_count": null,
   "id": "bdb810e9",
   "metadata": {},
   "outputs": [
    {
     "data": {
      "text/plain": [
       "tensor([2, 3, 5, 4, 0, 3, 5, 2, 7])"
      ]
     },
     "execution_count": null,
     "metadata": {},
     "output_type": "execute_result"
    }
   ],
   "source": [
    "self_data_indexes_for_epoch[sampler_top_losses[-n:]] = self_data_indexes_for_epoch[inverted_losses_for_epochs]\n",
    "self_data_indexes_for_epoch"
   ]
  },
  {
   "cell_type": "code",
   "execution_count": null,
   "id": "c39bd037",
   "metadata": {},
   "outputs": [
    {
     "data": {
      "text/plain": [
       "tensor([7, 4, 3, 0, 2, 5, 3, 5, 2])"
      ]
     },
     "execution_count": null,
     "metadata": {},
     "output_type": "execute_result"
    }
   ],
   "source": [
    "self_data_indexes_for_epoch = self_data_indexes_for_epoch[rand_tensor]\n",
    "self_data_indexes_for_epoch"
   ]
  },
  {
   "cell_type": "code",
   "execution_count": null,
   "id": "86a15ba1",
   "metadata": {},
   "outputs": [
    {
     "name": "stdout",
     "output_type": "stream",
     "text": [
      "tensor([2, 6, 0])\n",
      "tensor([1, 3, 4])\n",
      "tensor([5, 8, 7])\n"
     ]
    }
   ],
   "source": [
    "print(torch.tensor([0,2,6])[[1,2,0]])\n",
    "print(torch.tensor([1,3,4])[[0,1,2]])\n",
    "print(torch.tensor([5,7,8])[[0,2,1]])"
   ]
  },
  {
   "cell_type": "code",
   "execution_count": null,
   "id": "75cd2cab",
   "metadata": {},
   "outputs": [
    {
     "data": {
      "text/plain": [
       "tensor([ 0,  2,  6,  8, 10, 12, 45, 56])"
      ]
     },
     "execution_count": null,
     "metadata": {},
     "output_type": "execute_result"
    }
   ],
   "source": [
    "t = torch.tensor([0,2,6,8,10,16,80,10,12,45,56])\n",
    "torch.cat((t[:4], t[-4:]))"
   ]
  },
  {
   "cell_type": "code",
   "execution_count": null,
   "id": "124125e5",
   "metadata": {},
   "outputs": [],
   "source": []
  },
  {
   "cell_type": "code",
   "execution_count": null,
   "id": "51816f06",
   "metadata": {},
   "outputs": [
    {
     "data": {
      "text/plain": [
       "tensor([0., 2., 6., 8.])"
      ]
     },
     "execution_count": null,
     "metadata": {},
     "output_type": "execute_result"
    }
   ],
   "source": [
    "torch.cat((t[:4], torch.tensor([])))"
   ]
  },
  {
   "cell_type": "markdown",
   "id": "f065055d",
   "metadata": {},
   "source": [
    "## DataLoaders"
   ]
  },
  {
   "cell_type": "code",
   "execution_count": null,
   "id": "c91e91f2",
   "metadata": {},
   "outputs": [],
   "source": [
    "from torch.utils.data import DataLoader, WeightedRandomSampler"
   ]
  },
  {
   "cell_type": "code",
   "execution_count": null,
   "id": "bd66b5bf",
   "metadata": {},
   "outputs": [
    {
     "data": {
      "text/plain": [
       "[0, 4, 3]"
      ]
     },
     "execution_count": null,
     "metadata": {},
     "output_type": "execute_result"
    }
   ],
   "source": [
    "list(WeightedRandomSampler([0.9, 0.4, 0.05, 0.2, 0.3, 0.1], 3, replacement=False))"
   ]
  },
  {
   "cell_type": "code",
   "execution_count": null,
   "id": "9fb41f3f",
   "metadata": {},
   "outputs": [],
   "source": []
  },
  {
   "cell_type": "code",
   "execution_count": null,
   "id": "36ac6479",
   "metadata": {},
   "outputs": [],
   "source": []
  },
  {
   "cell_type": "code",
   "execution_count": null,
   "id": "f3fde369",
   "metadata": {},
   "outputs": [
    {
     "data": {
      "text/plain": [
       "(torch.Size([20, 1, 8, 8]), torch.Size([20, 10]), torch.Size([20]))"
      ]
     },
     "execution_count": null,
     "metadata": {},
     "output_type": "execute_result"
    }
   ],
   "source": [
    "xb = torch.rand(20,1,8,8)\n",
    "\n",
    "preds = torch.rand(20,10)\n",
    "yb = torch.tensor([0,0,1,1,2,2,3,3,4,4,5,5,6,6,7,7,8,8,9,9])\n",
    "xb.shape, preds.shape, yb.shape"
   ]
  },
  {
   "cell_type": "code",
   "execution_count": null,
   "id": "06a7233e",
   "metadata": {},
   "outputs": [
    {
     "data": {
      "text/plain": [
       "tensor([1.7730, 1.9653, 2.3778, 2.3921, 1.8411, 2.2324, 2.2041, 2.6778, 2.3053,\n",
       "        2.8118, 2.0552, 2.6604, 2.1511, 2.4199, 2.5745, 2.4360, 2.1496, 2.0577,\n",
       "        2.5092, 2.3182])"
      ]
     },
     "execution_count": null,
     "metadata": {},
     "output_type": "execute_result"
    }
   ],
   "source": [
    "F.cross_entropy(preds, yb, reduction='none')"
   ]
  },
  {
   "cell_type": "code",
   "execution_count": null,
   "id": "270caeca",
   "metadata": {},
   "outputs": [
    {
     "data": {
      "text/plain": [
       "{0: tensor([0, 1]),\n",
       " 1: tensor([2, 3]),\n",
       " 2: tensor([4, 5]),\n",
       " 3: tensor([6, 7]),\n",
       " 4: tensor([8, 9]),\n",
       " 5: tensor([10, 11]),\n",
       " 6: tensor([12, 13]),\n",
       " 7: tensor([14, 15]),\n",
       " 8: tensor([16, 17]),\n",
       " 9: tensor([18, 19])}"
      ]
     },
     "execution_count": null,
     "metadata": {},
     "output_type": "execute_result"
    }
   ],
   "source": [
    "y_idxs = {}\n",
    "for k in yb.unique(dim=0):\n",
    "    y_idxs[k.item()] = (k==yb).nonzero().flatten()\n",
    "y_idxs"
   ]
  },
  {
   "cell_type": "code",
   "execution_count": null,
   "id": "bae02b33",
   "metadata": {},
   "outputs": [
    {
     "data": {
      "text/plain": [
       "tensor([[[[0.2199, 0.6844, 0.9007, 0.9883, 0.8702, 0.9252, 0.2161, 0.3935],\n",
       "          [0.6095, 0.0276, 0.4560, 0.7161, 0.1244, 0.4482, 0.5051, 0.5468],\n",
       "          [0.8307, 0.1041, 0.0755, 0.2139, 0.0549, 0.4479, 0.1585, 0.5211],\n",
       "          [0.6367, 0.5379, 0.2095, 0.2638, 0.3813, 0.0326, 0.8070, 0.1358],\n",
       "          [0.5473, 0.3918, 0.3578, 0.7544, 0.2588, 0.7535, 0.8684, 0.8103],\n",
       "          [0.5645, 0.1820, 0.9003, 0.5122, 0.1426, 0.2379, 0.1581, 0.8038],\n",
       "          [0.9921, 0.9871, 0.8713, 0.9484, 0.9409, 0.9681, 0.4653, 0.6030],\n",
       "          [0.7469, 0.0494, 0.9577, 0.5373, 0.7264, 0.0448, 0.8434, 0.5295]]],\n",
       "\n",
       "\n",
       "        [[[0.8422, 0.3031, 0.8413, 0.3961, 0.9903, 0.7293, 0.7609, 0.9512],\n",
       "          [0.5877, 0.9824, 0.0316, 0.6535, 0.0636, 0.9349, 0.6246, 0.2327],\n",
       "          [0.7969, 0.4418, 0.3323, 0.8367, 0.1864, 0.7162, 0.9746, 0.5567],\n",
       "          [0.3780, 0.7475, 0.4777, 0.3243, 0.3557, 0.9951, 0.4380, 0.6525],\n",
       "          [0.2108, 0.2133, 0.3818, 0.3585, 0.0771, 0.9863, 0.9056, 0.9800],\n",
       "          [0.1847, 0.1065, 0.1610, 0.4096, 0.5464, 0.1527, 0.3292, 0.2629],\n",
       "          [0.7037, 0.7686, 0.8325, 0.5582, 0.4838, 0.0268, 0.3727, 0.4498],\n",
       "          [0.0014, 0.5500, 0.9304, 0.8203, 0.5208, 0.9284, 0.4069, 0.2701]]]])"
      ]
     },
     "execution_count": null,
     "metadata": {},
     "output_type": "execute_result"
    }
   ],
   "source": [
    "xb[y_idxs[0]]"
   ]
  },
  {
   "cell_type": "code",
   "execution_count": null,
   "id": "cdb420f0",
   "metadata": {},
   "outputs": [
    {
     "data": {
      "text/plain": [
       "torch.Size([2, 1, 8, 8])"
      ]
     },
     "execution_count": null,
     "metadata": {},
     "output_type": "execute_result"
    }
   ],
   "source": [
    "xb[y_idxs[0]].shape"
   ]
  },
  {
   "cell_type": "code",
   "execution_count": null,
   "id": "b3cd177a",
   "metadata": {},
   "outputs": [
    {
     "data": {
      "text/plain": [
       "tensor([[[[0.2199, 0.6844, 0.9007, 0.9883, 0.8702, 0.9252, 0.2161, 0.3935],\n",
       "          [0.6095, 0.0276, 0.4560, 0.7161, 0.1244, 0.4482, 0.5051, 0.5468],\n",
       "          [0.8307, 0.1041, 0.0755, 0.2139, 0.0549, 0.4479, 0.1585, 0.5211],\n",
       "          [0.6367, 0.5379, 0.2095, 0.2638, 0.3813, 0.0326, 0.8070, 0.1358],\n",
       "          [0.5473, 0.3918, 0.3578, 0.7544, 0.2588, 0.7535, 0.8684, 0.8103],\n",
       "          [0.5645, 0.1820, 0.9003, 0.5122, 0.1426, 0.2379, 0.1581, 0.8038],\n",
       "          [0.9921, 0.9871, 0.8713, 0.9484, 0.9409, 0.9681, 0.4653, 0.6030],\n",
       "          [0.7469, 0.0494, 0.9577, 0.5373, 0.7264, 0.0448, 0.8434, 0.5295]]]])"
      ]
     },
     "execution_count": null,
     "metadata": {},
     "output_type": "execute_result"
    }
   ],
   "source": [
    "xb[:1]"
   ]
  },
  {
   "cell_type": "code",
   "execution_count": null,
   "id": "26320cff",
   "metadata": {},
   "outputs": [
    {
     "data": {
      "text/plain": [
       "torch.Size([30, 1, 8, 8])"
      ]
     },
     "execution_count": null,
     "metadata": {},
     "output_type": "execute_result"
    }
   ],
   "source": [
    "xb1 = torch.rand(20,1,8,8)\n",
    "xb2 = torch.rand(10,1,8,8)\n",
    "\n",
    "xb3 = torch.cat((xb1, xb2))\n",
    "xb3.shape"
   ]
  },
  {
   "cell_type": "code",
   "execution_count": null,
   "id": "da158298",
   "metadata": {},
   "outputs": [
    {
     "data": {
      "text/plain": [
       "(torch.Size([30, 1, 8, 8]), torch.Size([20, 10]), torch.Size([30]))"
      ]
     },
     "execution_count": null,
     "metadata": {},
     "output_type": "execute_result"
    }
   ],
   "source": [
    "xb = torch.rand(30,1,8,8)\n",
    "\n",
    "preds = torch.rand(20,10)\n",
    "yb = torch.tensor([1,9,1,0,2,3,8,3,4,2,7,5,6,7,5,0,8,4,9,0,9,8,7,0,5,4,3,1,2,6])\n",
    "xb.shape, preds.shape, yb.shape"
   ]
  },
  {
   "cell_type": "code",
   "execution_count": null,
   "id": "31b51930",
   "metadata": {},
   "outputs": [
    {
     "data": {
      "text/plain": [
       "tensor([ 3, 15, 19, 23])"
      ]
     },
     "execution_count": null,
     "metadata": {},
     "output_type": "execute_result"
    }
   ],
   "source": [
    "(yb==0).nonzero().flatten()"
   ]
  },
  {
   "cell_type": "code",
   "execution_count": null,
   "id": "30b99a84",
   "metadata": {},
   "outputs": [
    {
     "data": {
      "text/plain": [
       "(tensor([0, 1, 2, 3, 4, 5, 6, 7, 8, 9]),\n",
       " tensor([4, 3, 3, 3, 3, 3, 2, 3, 3, 3]))"
      ]
     },
     "execution_count": null,
     "metadata": {},
     "output_type": "execute_result"
    }
   ],
   "source": [
    "unique_counts = yb.unique(dim=0, return_counts=True)\n",
    "unique_counts[0], unique_counts[1]"
   ]
  },
  {
   "cell_type": "code",
   "execution_count": null,
   "id": "b649f9d2",
   "metadata": {},
   "outputs": [
    {
     "ename": "RuntimeError",
     "evalue": "stack expects each tensor to be equal size, but got [4] at entry 0 and [3] at entry 1",
     "output_type": "error",
     "traceback": [
      "\u001b[0;31m---------------------------------------------------------------------------\u001b[0m",
      "\u001b[0;31mRuntimeError\u001b[0m                              Traceback (most recent call last)",
      "Input \u001b[0;32mIn [133]\u001b[0m, in \u001b[0;36m<cell line: 5>\u001b[0;34m()\u001b[0m\n\u001b[1;32m      2\u001b[0m \u001b[38;5;28;01mfor\u001b[39;00m k \u001b[38;5;129;01min\u001b[39;00m yb\u001b[38;5;241m.\u001b[39munique(dim\u001b[38;5;241m=\u001b[39m\u001b[38;5;241m0\u001b[39m):\n\u001b[1;32m      3\u001b[0m     targ_idxs\u001b[38;5;241m.\u001b[39mappend((yb\u001b[38;5;241m==\u001b[39mk)\u001b[38;5;241m.\u001b[39mnonzero()\u001b[38;5;241m.\u001b[39mflatten())\n\u001b[0;32m----> 5\u001b[0m \u001b[43mtorch\u001b[49m\u001b[38;5;241;43m.\u001b[39;49m\u001b[43mstack\u001b[49m\u001b[43m(\u001b[49m\u001b[43mtarg_idxs\u001b[49m\u001b[43m)\u001b[49m[\u001b[38;5;241m0\u001b[39m], torch\u001b[38;5;241m.\u001b[39mstack(targ_idxs)[\u001b[38;5;241m1\u001b[39m]\n",
      "\u001b[0;31mRuntimeError\u001b[0m: stack expects each tensor to be equal size, but got [4] at entry 0 and [3] at entry 1"
     ]
    }
   ],
   "source": [
    "targ_idxs = []\n",
    "for k in yb.unique(dim=0):\n",
    "    targ_idxs.append((yb==k).nonzero().flatten())\n",
    "\n",
    "torch.stack(targ_idxs)[0], torch.stack(targ_idxs)[1]"
   ]
  },
  {
   "cell_type": "code",
   "execution_count": null,
   "id": "9991c92b",
   "metadata": {},
   "outputs": [],
   "source": [
    "targ_idxs = torch.tensor()\n",
    "for k in yb.unique(dim=0):\n",
    "    targ_idxs = torch.append((yb==k).nonzero().flatten())\n",
    "\n",
    "torch.stack(targ_idxs)[0], torch.stack(targ_idxs)[1]"
   ]
  },
  {
   "cell_type": "markdown",
   "id": "e2e16039",
   "metadata": {},
   "source": [
    "### Understanding Curriculum Learning\n",
    "As tweaked from tommyc's version from ..."
   ]
  },
  {
   "cell_type": "code",
   "execution_count": null,
   "id": "d0b9fa33",
   "metadata": {},
   "outputs": [],
   "source": [
    "from typing import Iterator\n",
    "from torch.utils.data import DataLoader, WeightedRandomSampler"
   ]
  },
  {
   "cell_type": "code",
   "execution_count": null,
   "id": "73b1458a",
   "metadata": {},
   "outputs": [
    {
     "data": {
      "text/plain": [
       "(tensor([0.4008, 0.7320, 0.5781, 0.7409, 0.9445]),\n",
       " tensor([4, 3, 1, 2, 0]),\n",
       " tensor([0, 2, 1, 3, 4]))"
      ]
     },
     "execution_count": null,
     "metadata": {},
     "output_type": "execute_result"
    }
   ],
   "source": [
    "losses = torch.rand(5)\n",
    "top_losses = torch.topk(losses, 5).indices\n",
    "losses, top_losses, torch.flip(top_losses, dims=(0,))"
   ]
  },
  {
   "cell_type": "code",
   "execution_count": null,
   "id": "addad19e",
   "metadata": {},
   "outputs": [],
   "source": [
    "epochs = 5\n",
    "# Porcentaje a sustituir en cada epoch\n",
    "self_n = { 0: 0, 1: 0.21, 2: 0.42, 3: 0.21, 4: 0 }\n",
    "\n",
    "# Supongamos un set de 256 losses\n",
    "\n",
    "batch_sz = 256\n",
    "dataset_sz = batch_sz*30\n",
    "\n",
    "rand_tensor_0 = torch.randperm(dataset_sz).tolist()\n",
    "\n",
    "losses = torch.rand(dataset_sz)\n",
    "top_losses = torch.topk(losses, dataset_sz).indices"
   ]
  },
  {
   "cell_type": "code",
   "execution_count": null,
   "id": "097a969a",
   "metadata": {},
   "outputs": [
    {
     "data": {
      "text/plain": [
       "(tensor([ 659, 5513, 2833, 2567, 3390]),\n",
       " tensor([4633, 1122, 1848, 7656, 7386]),\n",
       " tensor([1907]))"
      ]
     },
     "execution_count": null,
     "metadata": {},
     "output_type": "execute_result"
    }
   ],
   "source": [
    "top_losses[:5], top_losses[-5:], top_losses[-1612:-1611]"
   ]
  },
  {
   "cell_type": "code",
   "execution_count": null,
   "id": "9751ac3b",
   "metadata": {},
   "outputs": [
    {
     "data": {
      "text/plain": [
       "(tensor([7386, 7656, 1848, 1122, 4633]),\n",
       " tensor([3390, 2567, 2833, 5513,  659]))"
      ]
     },
     "execution_count": null,
     "metadata": {},
     "output_type": "execute_result"
    }
   ],
   "source": [
    "inverted_losses_for_epochs = torch.flip(top_losses, dims=(0,))\n",
    "inverted_losses_for_epochs[:5], inverted_losses_for_epochs[-5:]"
   ]
  },
  {
   "cell_type": "code",
   "execution_count": null,
   "id": "f5eb9a20",
   "metadata": {},
   "outputs": [],
   "source": [
    "data_indexes_for_epoch = torch.tensor(rand_tensor_0)"
   ]
  },
  {
   "cell_type": "code",
   "execution_count": null,
   "id": "05b2c1dc",
   "metadata": {},
   "outputs": [
    {
     "name": "stdout",
     "output_type": "stream",
     "text": [
      "1612\n"
     ]
    }
   ],
   "source": [
    "epoch=1\n",
    "rand_tensor_1 = torch.randperm(dataset_sz).tolist()\n",
    "n = int(self_n[epoch] * dataset_sz)\n",
    "print(n)\n",
    "\n",
    "# índices de imagenes con las n menores pérdidas\n",
    "data_indexes_for_epoch[ top_losses[-n:] ]"
   ]
  },
  {
   "cell_type": "code",
   "execution_count": null,
   "id": "636fad99",
   "metadata": {},
   "outputs": [],
   "source": [
    "data_indexes_for_epoch[ top_losses[-n:] ] = data_indexes_for_epoch[ top_losses[:n] ]"
   ]
  },
  {
   "cell_type": "code",
   "execution_count": null,
   "id": "f7eb6284",
   "metadata": {},
   "outputs": [
    {
     "data": {
      "text/plain": [
       "tensor(1612)"
      ]
     },
     "execution_count": null,
     "metadata": {},
     "output_type": "execute_result"
    }
   ],
   "source": [
    "im_idx, im_count = data_indexes_for_epoch.unique(dim=0, return_counts=True)\n",
    "\n",
    "(im_count>1).sum()"
   ]
  },
  {
   "cell_type": "code",
   "execution_count": null,
   "id": "61557413",
   "metadata": {},
   "outputs": [
    {
     "data": {
      "text/plain": [
       "[0, 1, 3, 5]"
      ]
     },
     "execution_count": null,
     "metadata": {},
     "output_type": "execute_result"
    }
   ],
   "source": [
    "a=[1,0,3,5]\n",
    "sorted(a)"
   ]
  },
  {
   "cell_type": "code",
   "execution_count": null,
   "id": "08e3c93b",
   "metadata": {},
   "outputs": [
    {
     "data": {
      "text/plain": [
       "[1, 0, 3, 5]"
      ]
     },
     "execution_count": null,
     "metadata": {},
     "output_type": "execute_result"
    }
   ],
   "source": [
    "a"
   ]
  },
  {
   "cell_type": "code",
   "execution_count": null,
   "id": "a4ecafcb",
   "metadata": {},
   "outputs": [],
   "source": []
  },
  {
   "cell_type": "code",
   "execution_count": null,
   "id": "792e3775",
   "metadata": {},
   "outputs": [],
   "source": [
    "w = [2 for _ in range(100)] + [1 for _ in range(100)]"
   ]
  },
  {
   "cell_type": "code",
   "execution_count": null,
   "id": "a9ebbf7d",
   "metadata": {},
   "outputs": [
    {
     "data": {
      "text/plain": [
       "(tensor([  2,   3,   6,   7,   8,   9,  10,  13,  15,  16,  17,  21,  26,  27,\n",
       "          29,  32,  34,  36,  38,  39,  42,  44,  45,  46,  55,  56,  57,  58,\n",
       "          63,  64,  67,  74,  75,  78,  80,  81,  83,  84,  85,  88,  90,  91,\n",
       "          93,  94,  96,  98, 104, 107, 113, 123, 125, 126, 130, 135, 136, 139,\n",
       "         141, 143, 152, 154, 156, 157, 159, 162, 163, 172, 175, 178, 181, 185,\n",
       "         189, 190, 191, 193, 197, 198]),\n",
       " tensor([2, 1, 2, 1, 1, 2, 1, 1, 1, 3, 3, 2, 3, 1, 1, 1, 1, 2, 1, 1, 1, 2, 1, 1,\n",
       "         2, 1, 3, 1, 1, 2, 1, 1, 1, 1, 2, 2, 1, 1, 1, 2, 2, 1, 1, 1, 1, 1, 1, 1,\n",
       "         1, 1, 2, 1, 1, 1, 2, 1, 1, 1, 1, 1, 1, 1, 1, 1, 1, 2, 1, 2, 1, 1, 1, 1,\n",
       "         1, 1, 1, 1]))"
      ]
     },
     "execution_count": null,
     "metadata": {},
     "output_type": "execute_result"
    }
   ],
   "source": [
    "wrs = torch.tensor(list(WeightedRandomSampler(weights=w, num_samples=100, replacement=True)))\n",
    "\n",
    "wrs.unique(dim=0, return_counts=True)"
   ]
  },
  {
   "cell_type": "code",
   "execution_count": null,
   "id": "e4c58542",
   "metadata": {},
   "outputs": [],
   "source": [
    "class CustomTrainingSampler(WeightedRandomSampler):\n",
    "    def __init__(self, *args, **kwargs):\n",
    "        WeightedRandomSampler.__init__(self, *args, **kwargs)\n",
    "        self._idxs_for_epoch = []\n",
    "        \n",
    "    def __iter__(self) -> Iterator[int]:\n",
    "        self._idxs_for_epoch = list(range(100))\n",
    "        \n",
    "        yield from self._idxs_for_epoch\n"
   ]
  },
  {
   "cell_type": "code",
   "execution_count": null,
   "id": "a85c7b28",
   "metadata": {},
   "outputs": [],
   "source": [
    "class MyDataset(torch.utils.data.Dataset):\n",
    "    def __init__(self, start, end):\n",
    "        super(MyIterableDataset).__init__()\n",
    "        assert end > start, \"this example code only works with end >= start\"\n",
    "        self.start = start\n",
    "        self.end = end\n",
    "    \n",
    "    def __len__(self):\n",
    "        return len(range(self.start, self.end))\n",
    "        \n",
    "    def __getitem__(self, index):\n",
    "        return list(range(self.start, self.end))[index]\n",
    "\n",
    "ds = MyDataset(start=0, end=10)"
   ]
  },
  {
   "cell_type": "code",
   "execution_count": null,
   "id": "5fa31ca5",
   "metadata": {},
   "outputs": [
    {
     "data": {
      "text/plain": [
       "10"
      ]
     },
     "execution_count": null,
     "metadata": {},
     "output_type": "execute_result"
    }
   ],
   "source": [
    "len(ds)"
   ]
  },
  {
   "cell_type": "code",
   "execution_count": null,
   "id": "65d17858",
   "metadata": {},
   "outputs": [
    {
     "name": "stdout",
     "output_type": "stream",
     "text": [
      "[tensor([0]), tensor([1]), tensor([2]), tensor([3]), tensor([4]), tensor([5]), tensor([6]), tensor([7]), tensor([8]), tensor([9])]\n"
     ]
    }
   ],
   "source": [
    "print(list(torch.utils.data.DataLoader(ds, num_workers=0)))"
   ]
  },
  {
   "cell_type": "code",
   "execution_count": null,
   "id": "440bb4b7",
   "metadata": {},
   "outputs": [
    {
     "name": "stdout",
     "output_type": "stream",
     "text": [
      "[tensor([0, 1]), tensor([2, 3]), tensor([4, 5]), tensor([6, 7]), tensor([8, 9])]\n"
     ]
    }
   ],
   "source": [
    "print(list(DataLoader(ds, 2)))"
   ]
  },
  {
   "cell_type": "code",
   "execution_count": null,
   "id": "85334f70",
   "metadata": {},
   "outputs": [
    {
     "data": {
      "text/plain": [
       "[tensor([0, 1, 2, 3, 4, 5, 6, 7, 8, 9]),\n",
       " tensor([10, 11, 12, 13, 14, 15, 16, 17, 18, 19]),\n",
       " tensor([20, 21, 22, 23, 24, 25, 26, 27, 28, 29]),\n",
       " tensor([30, 31, 32, 33, 34, 35, 36, 37, 38, 39]),\n",
       " tensor([40, 41, 42, 43, 44, 45, 46, 47, 48, 49]),\n",
       " tensor([50, 51, 52, 53, 54, 55, 56, 57, 58, 59]),\n",
       " tensor([60, 61, 62, 63, 64, 65, 66, 67, 68, 69]),\n",
       " tensor([70, 71, 72, 73, 74, 75, 76, 77, 78, 79]),\n",
       " tensor([80, 81, 82, 83, 84, 85, 86, 87, 88, 89]),\n",
       " tensor([90, 91, 92, 93, 94, 95, 96, 97, 98, 99])]"
      ]
     },
     "execution_count": null,
     "metadata": {},
     "output_type": "execute_result"
    }
   ],
   "source": [
    "num_samples=100\n",
    "\n",
    "ds = MyDataset(start=0, end=num_samples)\n",
    "\n",
    "sampler=CustomTrainingSampler(weights=[1 for _ in range(num_samples)], num_samples=num_samples)\n",
    "\n",
    "list(DataLoader(ds, 10, sampler=sampler))"
   ]
  },
  {
   "cell_type": "code",
   "execution_count": null,
   "id": "8bf478b2",
   "metadata": {},
   "outputs": [],
   "source": []
  }
 ],
 "metadata": {
  "kernelspec": {
   "display_name": "Python 3 (ipykernel)",
   "language": "python",
   "name": "python3"
  }
 },
 "nbformat": 4,
 "nbformat_minor": 5
}
